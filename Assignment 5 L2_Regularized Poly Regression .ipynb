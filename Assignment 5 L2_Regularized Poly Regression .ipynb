{
 "cells": [
  {
   "cell_type": "markdown",
   "metadata": {},
   "source": [
    "# Omphemetse Mangope \n",
    "Advanced Machine Learning    \n",
    "Practical Assignment 5: L2 regularized polynomial regression   \n",
    "Extended due date: 19 June 2020   "
   ]
  },
  {
   "cell_type": "code",
   "execution_count": 281,
   "metadata": {},
   "outputs": [],
   "source": [
    "import numpy as np\n",
    "import matplotlib.pyplot as plt\n",
    "import random\n",
    "import pandas as pd\n",
    "from sklearn.preprocessing import scale\n",
    "\n",
    "import warnings \n",
    "warnings.filterwarnings(\"ignore\") # Ignoring filter warnings "
   ]
  },
  {
   "cell_type": "markdown",
   "metadata": {},
   "source": [
    "# Design Matrix and L2 regularizer functions"
   ]
  },
  {
   "cell_type": "code",
   "execution_count": 282,
   "metadata": {},
   "outputs": [],
   "source": [
    "def designMatrix(x):\n",
    "    n = len(x) # \n",
    "    X = np.c_[np.ones(n),x,x**2,x**3,x**4,x**5,x**6] \n",
    "    return(X)\n",
    "# Design matrix of 6th degree polynomial for x input values \n",
    "\n",
    "def L2_regularizer(x,y,λ):\n",
    "    I = np.eye(7)\n",
    "    I[0,0] = 0\n",
    "    theta = np.linalg.inv(x.T.dot(x) + λ*I).dot(x.T).dot(y)\n",
    "    return(theta)\n",
    "# L2 regularizer function that takes design matrix(x_values), lambda and y values. The function returns theta values "
   ]
  },
  {
   "cell_type": "markdown",
   "metadata": {},
   "source": [
    "# Data"
   ]
  },
  {
   "cell_type": "code",
   "execution_count": 283,
   "metadata": {},
   "outputs": [],
   "source": [
    "n = 200 # number of observations\n",
    "random.seed(123)\n",
    "x = np.random.uniform(0,300,n) # x values generated from a random uniform distribution with n observations \n",
    "x = x[np.argsort(x)] # sorting x values into order \n",
    "y = 5 + x**1 + x**2 + x**3 # Real y values \n",
    "\n",
    "random.seed(123)\n",
    "y_obs = y + np.random.normal(0,900000, n) # y values with noise having a very big variance \n",
    "\n",
    "# Splitting data into train and test variables \n",
    "x_train = x[x < 200] \n",
    "x_test = x[x >= 200]\n",
    "\n",
    "y_train = y_obs[x < 200]\n",
    "y_test = y_obs[x >= 200]\n",
    "\n",
    "\n",
    "# Number of observations for train and test\n",
    "n_train = len(x_train)\n",
    "n_test = len(x_test)"
   ]
  },
  {
   "cell_type": "markdown",
   "metadata": {},
   "source": [
    "# Substituting x_train and x_test into the design Matrix to get the polynomial degree=6"
   ]
  },
  {
   "cell_type": "code",
   "execution_count": 284,
   "metadata": {},
   "outputs": [],
   "source": [
    "X_train = designMatrix(x_train) # x_train values fitted to design matrix \n",
    "X_test = designMatrix(x_test) # x_train values fitted to design matrix "
   ]
  },
  {
   "cell_type": "markdown",
   "metadata": {},
   "source": [
    "# Compute MSE for train data  "
   ]
  },
  {
   "cell_type": "code",
   "execution_count": 285,
   "metadata": {},
   "outputs": [],
   "source": [
    "MSE_train = [] # Empty list for saving train MSE values computed\n",
    "\n",
    "for λ in [0, 0.5, 10, 20, 30, 80, 100, 200]: # A loop for iterating through all lambda values \n",
    "    \n",
    "    θ = L2_regularizer(X_train, y_train, λ) # Fitting the y_train, x_train and lambda into L2 Regularizer function\n",
    "    y_pred = θ[0]*X_train[:,0] + θ[1]*X_train[:,1] + θ[2]*X_train[:,2] + θ[3]*X_train[:,3] + θ[4]*X_train[:,4] + \\\n",
    "             θ[5]*X_train[:,5] + θ[6]*X_train[:,6] # Predictions \n",
    "    # Please note that each values of θ and X_train is referenced \n",
    "    \n",
    "    \n",
    "    mse = 1/(2*n)*np.sum(y_train - y_pred)**2 # MSE values for Train data\n",
    "    MSE_train.append(mse) # storing the mse values into the empty list MSE_train listed in first line"
   ]
  },
  {
   "cell_type": "markdown",
   "metadata": {},
   "source": [
    "# Compute MSE for test data"
   ]
  },
  {
   "cell_type": "code",
   "execution_count": 286,
   "metadata": {},
   "outputs": [],
   "source": [
    "MSE_test = [] \n",
    "\n",
    "for λ in [0, 0.5, 10, 20, 30, 80, 100, 200]:\n",
    "    \n",
    "    θ = L2_regularizer(X_train, y_train, λ)\n",
    "    y_pred = θ[0]*X_test[:,0] + θ[1]*X_test[:,1] + θ[2]*X_test[:,2] + θ[3]*X_test[:,3] + θ[4]*X_test[:,4] + \\\n",
    "             θ[5]*X_test[:,5] + θ[6]*X_test[:,6] \n",
    "    mse = 1/(2*n)*np.sum(y_test - y_pred)**2\n",
    "    MSE_test.append(mse)\n",
    "    \n",
    "# NB: The explaination for MSEs of test are the same as the ones on MSEs of train, therefore they will not be repeated here\n",
    "# NB: θ is the same for both test and train of MSE because those are the theta values trained for the model."
   ]
  },
  {
   "cell_type": "markdown",
   "metadata": {},
   "source": [
    "# Scaling MSEs and Lambdas"
   ]
  },
  {
   "cell_type": "code",
   "execution_count": 287,
   "metadata": {},
   "outputs": [],
   "source": [
    "MSE_train = scale(MSE_train) \n",
    "MSE_test = scale(MSE_test)\n",
    "Lambdas = scale([0, 0.5, 10, 20, 30, 80, 100, 200]) # Scaled Lambdas\n",
    "λ = [0, 0.5, 10, 20, 30, 80, 100, 200] # Unscaled Lambdas"
   ]
  },
  {
   "cell_type": "markdown",
   "metadata": {},
   "source": [
    "# Table for Lambdas and MSEs"
   ]
  },
  {
   "cell_type": "code",
   "execution_count": 310,
   "metadata": {},
   "outputs": [
    {
     "data": {
      "text/html": [
       "<style  type=\"text/css\" >\n",
       "    #T_014258de_b21e_11ea_b136_ef3b0fed5d61row7_col3 {\n",
       "            background-color: yellow;\n",
       "        }</style><table id=\"T_014258de_b21e_11ea_b136_ef3b0fed5d61\" ><thead>    <tr>        <th class=\"blank level0\" ></th>        <th class=\"col_heading level0 col0\" >λ</th>        <th class=\"col_heading level0 col1\" >MSE_train</th>        <th class=\"col_heading level0 col2\" >MSE_test</th>        <th class=\"col_heading level0 col3\" >Max</th>    </tr></thead><tbody>\n",
       "                <tr>\n",
       "                        <th id=\"T_014258de_b21e_11ea_b136_ef3b0fed5d61level0_row0\" class=\"row_heading level0 row0\" >0</th>\n",
       "                        <td id=\"T_014258de_b21e_11ea_b136_ef3b0fed5d61row0_col0\" class=\"data row0 col0\" >0</td>\n",
       "                        <td id=\"T_014258de_b21e_11ea_b136_ef3b0fed5d61row0_col1\" class=\"data row0 col1\" >-0.583503</td>\n",
       "                        <td id=\"T_014258de_b21e_11ea_b136_ef3b0fed5d61row0_col2\" class=\"data row0 col2\" >1.12282</td>\n",
       "                        <td id=\"T_014258de_b21e_11ea_b136_ef3b0fed5d61row0_col3\" class=\"data row0 col3\" >1.12282</td>\n",
       "            </tr>\n",
       "            <tr>\n",
       "                        <th id=\"T_014258de_b21e_11ea_b136_ef3b0fed5d61level0_row1\" class=\"row_heading level0 row1\" >1</th>\n",
       "                        <td id=\"T_014258de_b21e_11ea_b136_ef3b0fed5d61row1_col0\" class=\"data row1 col0\" >0.5</td>\n",
       "                        <td id=\"T_014258de_b21e_11ea_b136_ef3b0fed5d61row1_col1\" class=\"data row1 col1\" >1.21713</td>\n",
       "                        <td id=\"T_014258de_b21e_11ea_b136_ef3b0fed5d61row1_col2\" class=\"data row1 col2\" >1.10273</td>\n",
       "                        <td id=\"T_014258de_b21e_11ea_b136_ef3b0fed5d61row1_col3\" class=\"data row1 col3\" >1.21713</td>\n",
       "            </tr>\n",
       "            <tr>\n",
       "                        <th id=\"T_014258de_b21e_11ea_b136_ef3b0fed5d61level0_row2\" class=\"row_heading level0 row2\" >2</th>\n",
       "                        <td id=\"T_014258de_b21e_11ea_b136_ef3b0fed5d61row2_col0\" class=\"data row2 col0\" >10</td>\n",
       "                        <td id=\"T_014258de_b21e_11ea_b136_ef3b0fed5d61row2_col1\" class=\"data row2 col1\" >2.07994</td>\n",
       "                        <td id=\"T_014258de_b21e_11ea_b136_ef3b0fed5d61row2_col2\" class=\"data row2 col2\" >0.750507</td>\n",
       "                        <td id=\"T_014258de_b21e_11ea_b136_ef3b0fed5d61row2_col3\" class=\"data row2 col3\" >2.07994</td>\n",
       "            </tr>\n",
       "            <tr>\n",
       "                        <th id=\"T_014258de_b21e_11ea_b136_ef3b0fed5d61level0_row3\" class=\"row_heading level0 row3\" >3</th>\n",
       "                        <td id=\"T_014258de_b21e_11ea_b136_ef3b0fed5d61row3_col0\" class=\"data row3 col0\" >20</td>\n",
       "                        <td id=\"T_014258de_b21e_11ea_b136_ef3b0fed5d61row3_col1\" class=\"data row3 col1\" >-0.280852</td>\n",
       "                        <td id=\"T_014258de_b21e_11ea_b136_ef3b0fed5d61row3_col2\" class=\"data row3 col2\" >0.432115</td>\n",
       "                        <td id=\"T_014258de_b21e_11ea_b136_ef3b0fed5d61row3_col3\" class=\"data row3 col3\" >0.432115</td>\n",
       "            </tr>\n",
       "            <tr>\n",
       "                        <th id=\"T_014258de_b21e_11ea_b136_ef3b0fed5d61level0_row4\" class=\"row_heading level0 row4\" >4</th>\n",
       "                        <td id=\"T_014258de_b21e_11ea_b136_ef3b0fed5d61row4_col0\" class=\"data row4 col0\" >30</td>\n",
       "                        <td id=\"T_014258de_b21e_11ea_b136_ef3b0fed5d61row4_col1\" class=\"data row4 col1\" >-1.05378</td>\n",
       "                        <td id=\"T_014258de_b21e_11ea_b136_ef3b0fed5d61row4_col2\" class=\"data row4 col2\" >0.157494</td>\n",
       "                        <td id=\"T_014258de_b21e_11ea_b136_ef3b0fed5d61row4_col3\" class=\"data row4 col3\" >0.157494</td>\n",
       "            </tr>\n",
       "            <tr>\n",
       "                        <th id=\"T_014258de_b21e_11ea_b136_ef3b0fed5d61level0_row5\" class=\"row_heading level0 row5\" >5</th>\n",
       "                        <td id=\"T_014258de_b21e_11ea_b136_ef3b0fed5d61row5_col0\" class=\"data row5 col0\" >80</td>\n",
       "                        <td id=\"T_014258de_b21e_11ea_b136_ef3b0fed5d61row5_col1\" class=\"data row5 col1\" >-0.34101</td>\n",
       "                        <td id=\"T_014258de_b21e_11ea_b136_ef3b0fed5d61row5_col2\" class=\"data row5 col2\" >-0.782327</td>\n",
       "                        <td id=\"T_014258de_b21e_11ea_b136_ef3b0fed5d61row5_col3\" class=\"data row5 col3\" >-0.34101</td>\n",
       "            </tr>\n",
       "            <tr>\n",
       "                        <th id=\"T_014258de_b21e_11ea_b136_ef3b0fed5d61level0_row6\" class=\"row_heading level0 row6\" >6</th>\n",
       "                        <td id=\"T_014258de_b21e_11ea_b136_ef3b0fed5d61row6_col0\" class=\"data row6 col0\" >100</td>\n",
       "                        <td id=\"T_014258de_b21e_11ea_b136_ef3b0fed5d61row6_col1\" class=\"data row6 col1\" >-0.456846</td>\n",
       "                        <td id=\"T_014258de_b21e_11ea_b136_ef3b0fed5d61row6_col2\" class=\"data row6 col2\" >-1.02905</td>\n",
       "                        <td id=\"T_014258de_b21e_11ea_b136_ef3b0fed5d61row6_col3\" class=\"data row6 col3\" >-0.456846</td>\n",
       "            </tr>\n",
       "            <tr>\n",
       "                        <th id=\"T_014258de_b21e_11ea_b136_ef3b0fed5d61level0_row7\" class=\"row_heading level0 row7\" >7</th>\n",
       "                        <td id=\"T_014258de_b21e_11ea_b136_ef3b0fed5d61row7_col0\" class=\"data row7 col0\" >200</td>\n",
       "                        <td id=\"T_014258de_b21e_11ea_b136_ef3b0fed5d61row7_col1\" class=\"data row7 col1\" >-0.581079</td>\n",
       "                        <td id=\"T_014258de_b21e_11ea_b136_ef3b0fed5d61row7_col2\" class=\"data row7 col2\" >-1.75428</td>\n",
       "                        <td id=\"T_014258de_b21e_11ea_b136_ef3b0fed5d61row7_col3\" class=\"data row7 col3\" >-0.581079</td>\n",
       "            </tr>\n",
       "    </tbody></table>"
      ],
      "text/plain": [
       "<pandas.io.formats.style.Styler at 0x1e31976b3c8>"
      ]
     },
     "execution_count": 310,
     "metadata": {},
     "output_type": "execute_result"
    }
   ],
   "source": [
    "data = {'λ': λ,\n",
    "        'MSE_train':MSE_train,\n",
    "        'MSE_test':MSE_test} # Creating a dictionary for MSEs and Lambda values \n",
    "\n",
    "df = pd.DataFrame(data) # Transform dictionary to pandas dataframe to create a table \n",
    "\n",
    "df['Max'] = df[['MSE_train','MSE_test']].max(axis=1)\n",
    "# In this case we compare the MSEs of train and the MSEs of test and get the maixumum value between them\n",
    "\n",
    "def highlight_min(minimum): # Function for highlighting the best value of lambda\n",
    "    \n",
    "    is_min = minimum == minimum.min()\n",
    "    return(['background-color:yellow' if v else '' for v in is_min])\n",
    "\n",
    "df.style.apply(highlight_min, subset='Max') # Specifying the the column where the best value of lambda should be highlighted\n"
   ]
  },
  {
   "cell_type": "markdown",
   "metadata": {},
   "source": [
    "By observing the results for train MSEs and test MSEs with regards to different lambdas, we can select the best value for λ by cross validation. The best value of λ using the min-max cross-validation is λ=200"
   ]
  },
  {
   "cell_type": "code",
   "execution_count": 311,
   "metadata": {},
   "outputs": [
    {
     "data": {
      "image/png": "[encoded data removed]",
      "text/plain": [
       "<Figure size 1008x432 with 1 Axes>"
      ]
     },
     "metadata": {
      "needs_background": "light"
     },
     "output_type": "display_data"
    }
   ],
   "source": [
    "plt.figure(figsize=(14,6))\n",
    "plt.plot(Max, label='Cross-validated error', color='r')\n",
    "plt.plot(MSE_test, label='MSE_test', color='b')\n",
    "plt.plot(MSE_train, label='MSE_train', color='g')\n",
    "plt.xlabel('Lambda values by position')\n",
    "plt.ylabel('Mean Squared Error (MSE)')\n",
    "plt.title('MSE_train vs Lambda')\n",
    "plt.legend()\n",
    "plt.show()"
   ]
  },
  {
   "cell_type": "markdown",
   "metadata": {},
   "source": [
    "# Discussion\n",
    "\n",
    "NB: Lambda values are referenced by position on the plot.\n",
    "\n",
    "As indicated in the table above the best value is λ = 200, therefore the plots also confirm that the MSE error estimates for train, test and cross_validated errors tend to drop where λ = 200. The plot also shows that the error estimates for other λ values is not stable/consistent compared to at λ = 200. The model also performs well on useen data(test), because the error decrease consistently compared to the train data."
   ]
  },
  {
   "cell_type": "code",
   "execution_count": null,
   "metadata": {},
   "outputs": [],
   "source": []
  }
 ],
 "metadata": {
  "kernelspec": {
   "display_name": "Python 3",
   "language": "python",
   "name": "python3"
  },
  "language_info": {
   "codemirror_mode": {
    "name": "ipython",
    "version": 3
   },
   "file_extension": ".py",
   "mimetype": "text/x-python",
   "name": "python",
   "nbconvert_exporter": "python",
   "pygments_lexer": "ipython3",
   "version": "3.7.4"
  }
 },
 "nbformat": 4,
 "nbformat_minor": 2
}
